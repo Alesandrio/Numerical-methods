{
 "cells": [
  {
   "cell_type": "markdown",
   "metadata": {},
   "source": [
    "# Соколов Александр, лабораторная 3, вариант 22"
   ]
  },
  {
   "cell_type": "code",
   "execution_count": 94,
   "metadata": {},
   "outputs": [],
   "source": [
    "import numpy as np\n",
    "from scipy.linalg import lu_factor\n",
    "from itertools import product"
   ]
  },
  {
   "cell_type": "markdown",
   "metadata": {},
   "source": [
    "Условия задачи 3.1:"
   ]
  },
  {
   "cell_type": "code",
   "execution_count": 95,
   "metadata": {},
   "outputs": [],
   "source": [
    "#Размерность матрицы.\n",
    "n = 5 \n",
    "#Число компонент вектора свободных членов.\n",
    "N = 22 \n",
    "\n",
    "#Погрешность:\n",
    "tol = 1e-5\n",
    "\n",
    "#Коэффициенты:\n",
    "c = lambda i,j: 0.1*N*i*j\n",
    "\n",
    "#Расчет матрицы А и вектора своб. членов:\n",
    "A = np.array([[150/(13*c(i, j)**3 + 777*c(i, j)) for i in range(1,n+1)] for j in range(1,n+1)])\n",
    "b = np.array([float(N) for i in range(n)])"
   ]
  },
  {
   "cell_type": "code",
   "execution_count": 96,
   "metadata": {},
   "outputs": [
    {
     "name": "stdout",
     "output_type": "stream",
     "text": [
      "A: [[8.11765623e-02 3.31404412e-02 1.69192370e-02 9.55612683e-03\n",
      "  5.80270793e-03]\n",
      " [3.31404412e-02 9.55612683e-03 3.73543330e-03 1.77413409e-03\n",
      "  9.64518577e-04]\n",
      " [1.69192370e-02 3.73543330e-03 1.28981557e-03 5.77568461e-04\n",
      "  3.04369529e-04]\n",
      " [9.55612683e-03 1.77413409e-03 5.77568461e-04 2.52382871e-04\n",
      "  1.31396836e-04]\n",
      " [5.80270793e-03 9.64518577e-04 3.04369529e-04 1.31396836e-04\n",
      "  6.80083968e-05]] \n",
      " b: [22. 22. 22. 22. 22.]\n"
     ]
    }
   ],
   "source": [
    "print('A:', A, '\\n', 'b:', b)"
   ]
  },
  {
   "cell_type": "code",
   "execution_count": null,
   "metadata": {},
   "outputs": [],
   "source": []
  },
  {
   "cell_type": "code",
   "execution_count": 97,
   "metadata": {},
   "outputs": [],
   "source": [
    "x = np.linalg.solve(A, b)"
   ]
  },
  {
   "cell_type": "code",
   "execution_count": 98,
   "metadata": {},
   "outputs": [
    {
     "name": "stdout",
     "output_type": "stream",
     "text": [
      "Solution: [ 6.12459681e+04 -2.97214518e+06  3.14972246e+07 -9.81621158e+07\n",
      "  8.59407521e+07]\n"
     ]
    }
   ],
   "source": [
    "print('Solution:', x)"
   ]
  },
  {
   "cell_type": "code",
   "execution_count": 99,
   "metadata": {},
   "outputs": [],
   "source": [
    "cond = np.linalg.cond(A, p=np.inf)"
   ]
  },
  {
   "cell_type": "code",
   "execution_count": 100,
   "metadata": {
    "scrolled": true
   },
   "outputs": [
    {
     "name": "stdout",
     "output_type": "stream",
     "text": [
      "Condition number of matrix A: 8422543.146718727\n"
     ]
    }
   ],
   "source": [
    "print('Condition number of matrix A:', cond)"
   ]
  },
  {
   "cell_type": "code",
   "execution_count": 101,
   "metadata": {},
   "outputs": [],
   "source": [
    "bs = np.repeat(b, n).reshape((n, n))\n",
    "diag = np.diag([eps]*5)\n",
    "bs = bs + diag"
   ]
  },
  {
   "cell_type": "code",
   "execution_count": 102,
   "metadata": {},
   "outputs": [],
   "source": [
    "eps = 0.001\n",
    "sols = []\n",
    "for b in bs:\n",
    "    sols.append(np.linalg.solve(A, b))"
   ]
  },
  {
   "cell_type": "code",
   "execution_count": 103,
   "metadata": {},
   "outputs": [],
   "source": [
    "norms = list(map(lambda x_i: max(abs(x - x_i))/max(abs(x)), sols))"
   ]
  },
  {
   "cell_type": "code",
   "execution_count": 104,
   "metadata": {},
   "outputs": [],
   "source": [
    "norms = np.array(norms, dtype=np.float64)"
   ]
  },
  {
   "cell_type": "code",
   "execution_count": 105,
   "metadata": {
    "scrolled": true
   },
   "outputs": [
    {
     "data": {
      "text/plain": [
       "array([1.11440990e-07, 7.11246434e-06, 8.17713815e-05, 2.62811226e-04,\n",
       "       2.33499312e-04])"
      ]
     },
     "execution_count": 105,
     "metadata": {},
     "output_type": "execute_result"
    }
   ],
   "source": [
    "norms"
   ]
  },
  {
   "cell_type": "code",
   "execution_count": 106,
   "metadata": {},
   "outputs": [],
   "source": [
    "comp = np.argsort(norms)[-1]"
   ]
  },
  {
   "cell_type": "code",
   "execution_count": 107,
   "metadata": {},
   "outputs": [],
   "source": [
    "assert max(np.abs(norms))==norms[comp]"
   ]
  },
  {
   "cell_type": "code",
   "execution_count": 108,
   "metadata": {},
   "outputs": [
    {
     "name": "stdout",
     "output_type": "stream",
     "text": [
      "most influential component of vector b: 3\n"
     ]
    }
   ],
   "source": [
    "print('most influential component of vector b:', comp)"
   ]
  },
  {
   "cell_type": "code",
   "execution_count": 109,
   "metadata": {},
   "outputs": [],
   "source": [
    "estimate = cond*(max(np.abs(b - bs[comp]))/max(abs(b)))"
   ]
  },
  {
   "cell_type": "code",
   "execution_count": 110,
   "metadata": {},
   "outputs": [
    {
     "name": "stdout",
     "output_type": "stream",
     "text": [
      "theoretical estimate: 382.825469148176 \n",
      " practical estimate: 0.00026281122569218966\n"
     ]
    }
   ],
   "source": [
    "print('theoretical estimate:', estimate, '\\n', 'practical estimate:', norms[comp])"
   ]
  },
  {
   "cell_type": "markdown",
   "metadata": {},
   "source": [
    "Практическая оценка много меньше теоретической. Теоретическая оценка получилась большой из-за большого числа обусловленности (порядка миллиона), которое участвует в формуле для теоретической оценки. Но оценка на практике не превосходит теоретического супремума, поэтому решение, полученное для зашумленных данных (которое соответствует теоретической оценке), является адекватным."
   ]
  },
  {
   "cell_type": "markdown",
   "metadata": {},
   "source": [
    "# 3.4"
   ]
  },
  {
   "cell_type": "code",
   "execution_count": 111,
   "metadata": {
    "scrolled": true
   },
   "outputs": [
    {
     "name": "stdout",
     "output_type": "stream",
     "text": [
      "A: [[8.11765623e-02 3.31404412e-02 1.69192370e-02 9.55612683e-03\n",
      "  5.80270793e-03]\n",
      " [3.31404412e-02 9.55612683e-03 3.73543330e-03 1.77413409e-03\n",
      "  9.64518577e-04]\n",
      " [1.69192370e-02 3.73543330e-03 1.28981557e-03 5.77568461e-04\n",
      "  3.04369529e-04]\n",
      " [9.55612683e-03 1.77413409e-03 5.77568461e-04 2.52382871e-04\n",
      "  1.31396836e-04]\n",
      " [5.80270793e-03 9.64518577e-04 3.04369529e-04 1.31396836e-04\n",
      "  6.80083968e-05]]\n"
     ]
    }
   ],
   "source": [
    "print('A:', A)"
   ]
  },
  {
   "cell_type": "code",
   "execution_count": 112,
   "metadata": {},
   "outputs": [],
   "source": [
    "def getUpper(matrix, n):\n",
    "    for i, j in product(range(n), range(n)):\n",
    "        matrix[i, j] = 0 if i>j else matrix[i, j]\n",
    "    return matrix\n",
    "def getLower(matrix, n):\n",
    "    for i, j in product(range(n), range(n)):\n",
    "        if i<j:\n",
    "            matrix[i, j]=0\n",
    "        elif i==j:\n",
    "            matrix[i, j]=1\n",
    "        else:\n",
    "            matrix[i, j] = matrix[i, j]\n",
    "    return matrix"
   ]
  },
  {
   "cell_type": "code",
   "execution_count": 113,
   "metadata": {},
   "outputs": [],
   "source": [
    "LU, p = lu_factor(A)"
   ]
  },
  {
   "cell_type": "code",
   "execution_count": 114,
   "metadata": {},
   "outputs": [],
   "source": [
    "lower = getLower(LU.copy(), n)"
   ]
  },
  {
   "cell_type": "code",
   "execution_count": 115,
   "metadata": {},
   "outputs": [],
   "source": [
    "upper = getUpper(LU.copy(), n)"
   ]
  },
  {
   "cell_type": "code",
   "execution_count": 116,
   "metadata": {},
   "outputs": [],
   "source": [
    "b_gauss = np.linalg.inv(lower)@b"
   ]
  },
  {
   "cell_type": "code",
   "execution_count": 117,
   "metadata": {},
   "outputs": [],
   "source": [
    "sol_lu = np.linalg.solve(upper, b_gauss)"
   ]
  },
  {
   "cell_type": "code",
   "execution_count": 118,
   "metadata": {},
   "outputs": [
    {
     "name": "stdout",
     "output_type": "stream",
     "text": [
      "solved with lu-decomposition: [ 6.12354116e+04 -2.97144700e+06  3.14891978e+07 -9.81363177e+07\n",
      "  8.59178314e+07] \n",
      " solved with np.solve: [ 6.12459681e+04 -2.97214518e+06  3.14972246e+07 -9.81621158e+07\n",
      "  8.59407521e+07]\n"
     ]
    }
   ],
   "source": [
    "print('solved with lu-decomposition:', sol_lu, '\\n', 'solved with np.solve:', x)"
   ]
  },
  {
   "cell_type": "code",
   "execution_count": 119,
   "metadata": {},
   "outputs": [],
   "source": [
    "sols = []\n",
    "sols.append(b_gauss[-1]/upper[-1][-1])\n",
    "for i in range(n-2, -1, -1):\n",
    "    sols.append((b_gauss[i] - np.dot(upper[i][i+1:], sols[-1::-1]))/upper[i][i])"
   ]
  },
  {
   "cell_type": "code",
   "execution_count": 120,
   "metadata": {},
   "outputs": [
    {
     "name": "stdout",
     "output_type": "stream",
     "text": [
      "manual back pass: [61235.41155157041, -2971447.0020514177, 31489197.791344415, -98136317.69788097, 85917831.35456848]\n"
     ]
    }
   ],
   "source": [
    "print('manual back pass:', sols[-1::-1])"
   ]
  }
 ],
 "metadata": {
  "kernelspec": {
   "display_name": "Python 3",
   "language": "python",
   "name": "python3"
  },
  "language_info": {
   "codemirror_mode": {
    "name": "ipython",
    "version": 3
   },
   "file_extension": ".py",
   "mimetype": "text/x-python",
   "name": "python",
   "nbconvert_exporter": "python",
   "pygments_lexer": "ipython3",
   "version": "3.6.7"
  }
 },
 "nbformat": 4,
 "nbformat_minor": 2
}
